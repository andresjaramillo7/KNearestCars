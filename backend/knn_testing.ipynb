{
 "cells": [
  {
   "cell_type": "markdown",
   "id": "70533d41",
   "metadata": {},
   "source": [
    "# KNN Best K Analysis"
   ]
  },
  {
   "cell_type": "markdown",
   "id": "63a26e09",
   "metadata": {},
   "source": [
    "### Load dataset for KNN classification\n",
    "\n",
    "In this step we:\n",
    "1. Import all necessary libraries for data handling, visualization, and evaluation.\n",
    "2. Import our custom function `load_dataset` from the `Data.data_preparation` module.\n",
    "3. Load the dataset and split it into training and test sets.\n",
    "4. Print the shapes of the training and test sets, as well as the distribution of labels."
   ]
  },
  {
   "cell_type": "code",
   "execution_count": 5,
   "id": "46aa58d2",
   "metadata": {},
   "outputs": [
    {
     "name": "stdout",
     "output_type": "stream",
     "text": [
      "(96, 11) (24, 11)\n",
      "Ganaste o Perdiste la partida\n",
      "1    54\n",
      "0    42\n",
      "Name: count, dtype: int64 \n",
      " Ganaste o Perdiste la partida\n",
      "1    14\n",
      "0    10\n",
      "Name: count, dtype: int64\n"
     ]
    }
   ],
   "source": [
    "# Import core libraries\n",
    "import numpy as np\n",
    "import matplotlib.pyplot as plt\n",
    "\n",
    "# Import scikit-learn modules for KNN, evaluation metrics, and scaling\n",
    "from sklearn.neighbors import KNeighborsClassifier\n",
    "from sklearn.metrics import accuracy_score, confusion_matrix, classification_report\n",
    "from sklearn.preprocessing import StandardScaler\n",
    "\n",
    "# Import our custom dataset preparation function\n",
    "from Data.data_preparation import load_dataset\n",
    "\n",
    "# Load dataset (features and labels already preprocessed inside load_dataset)\n",
    "# Returns: training features, training labels, test features, test labels\n",
    "training, trainingLabels, test, testLabels = load_dataset(\"Data/WinLoseDataset.csv\")\n",
    "\n",
    "# Show dataset shapes and label distribution for sanity check\n",
    "print(training.shape, test.shape)\n",
    "print(trainingLabels.value_counts(), \"\\n\", testLabels.value_counts())"
   ]
  },
  {
   "cell_type": "markdown",
   "id": "22ae9b31",
   "metadata": {},
   "source": [
    "### Scale features and convert labels to NumPy arrays\n",
    "\n",
    "- KNN is a distance-based algorithm, so scaling features is important to avoid bias from variables with different ranges.  \n",
    "- Here we apply `StandardScaler` to normalize features (mean = 0, std = 1).  \n",
    "- We also convert the training and test labels to NumPy arrays for faster processing with scikit-learn."
   ]
  },
  {
   "cell_type": "code",
   "execution_count": 6,
   "id": "b5c389bf",
   "metadata": {},
   "outputs": [],
   "source": [
    "# Scale features using StandardScaler (important for distance-based algorithms like KNN)\n",
    "scaler = StandardScaler().fit(training)\n",
    "\n",
    "# Transform training and test sets with the fitted scaler\n",
    "Xtr = scaler.transform(training)\n",
    "Xte = scaler.transform(test)\n",
    "\n",
    "# Convert labels (pandas Series) to NumPy arrays\n",
    "ytr = trainingLabels.to_numpy()\n",
    "yte = testLabels.to_numpy()"
   ]
  },
  {
   "cell_type": "markdown",
   "id": "654c498c",
   "metadata": {},
   "source": [
    "### Test different values of *k* and distance metrics for KNN\n",
    "\n",
    "- Define a range of odd `k` values (from 3 to 41) to avoid ties.  \n",
    "- Test three distance metrics: Euclidean, Manhattan, and Cosine.  \n",
    "- For each combination of `k` and metric:\n",
    "  - Train a KNN classifier with distance weighting.  \n",
    "  - Evaluate it on the test set.  \n",
    "  - Store accuracy results.  \n",
    "- Print the best `k` for each metric and identify the overall best metric + `k`."
   ]
  },
  {
   "cell_type": "code",
   "execution_count": 7,
   "id": "6dc47f38",
   "metadata": {},
   "outputs": [
    {
     "name": "stdout",
     "output_type": "stream",
     "text": [
      "Metric: euclidean | Best k: 29 | Accuracy: 62.50%\n",
      "Metric: manhattan | Best k: 31 | Accuracy: 62.50%\n",
      "Metric: cosine    | Best k:  9 | Accuracy: 54.17%\n",
      "\n",
      ">>> Best metric: euclidean | Best k: 29 | Acc: 62.50%\n"
     ]
    }
   ],
   "source": [
    "# Define range of k values (odd numbers between 3 and 41)\n",
    "k_values = list(range(3, 42, 2))\n",
    "\n",
    "# Distance metrics to evaluate\n",
    "metrics = [\"euclidean\", \"manhattan\", \"cosine\"]\n",
    "\n",
    "# Dictionary to hold results per metric\n",
    "results_by_metric = {}\n",
    "\n",
    "# Loop over distance metrics\n",
    "for metric in metrics:\n",
    "    acc_by_k = {}  # store accuracy for each k\n",
    "\n",
    "    # Loop over k values\n",
    "    for k in k_values:\n",
    "        # Initialize KNN with given k and metric, using distance weighting\n",
    "        knn = KNeighborsClassifier(n_neighbors=k, metric=metric, weights=\"distance\")\n",
    "        knn.fit(Xtr, ytr)  # train on scaled training set\n",
    "\n",
    "        # Predict on test set\n",
    "        preds = knn.predict(Xte)\n",
    "\n",
    "        # Compute accuracy and store it\n",
    "        acc = accuracy_score(yte, preds) * 100.0\n",
    "        acc_by_k[k] = acc\n",
    "\n",
    "    # Find best k for this metric\n",
    "    best_k = max(acc_by_k, key=acc_by_k.get)\n",
    "    best_acc = acc_by_k[best_k]\n",
    "\n",
    "    # Save results for this metric\n",
    "    results_by_metric[metric] = {\"accuracies\": acc_by_k, \"best_k\": best_k, \"best_acc\": best_acc}\n",
    "\n",
    "    # Print best k for current metric\n",
    "    print(f\"Metric: {metric:9s} | Best k: {best_k:2d} | Accuracy: {best_acc:.2f}%\")\n",
    "\n",
    "# Identify the overall best metric based on accuracy\n",
    "best_metric = max(results_by_metric, key=lambda m: results_by_metric[m][\"best_acc\"])\n",
    "best_k = results_by_metric[best_metric][\"best_k\"]\n",
    "best_acc = results_by_metric[best_metric][\"best_acc\"]\n",
    "\n",
    "print(f\"\\n>>> Best metric: {best_metric} | Best k: {best_k} | Acc: {best_acc:.2f}%\")"
   ]
  },
  {
   "cell_type": "markdown",
   "id": "efa7b84a",
   "metadata": {},
   "source": [
    "### Train and evaluate the best KNN model\n",
    "\n",
    "- Initialize KNN with the best hyperparameters (`best_k`, `best_metric`) found earlier.  \n",
    "- Train it on the scaled training set.  \n",
    "- Predict labels on the test set.  \n",
    "- Report:\n",
    "  - Accuracy  \n",
    "  - Classification report (precision, recall, F1-score per class)  \n",
    "  - Confusion matrix (with labels 0 = \"Lose\", 1 = \"Win\")."
   ]
  },
  {
   "cell_type": "code",
   "execution_count": 8,
   "id": "4ff5336b",
   "metadata": {},
   "outputs": [
    {
     "name": "stdout",
     "output_type": "stream",
     "text": [
      "Accuracy: 0.625\n",
      "\n",
      "Classification report:\n",
      "               precision    recall  f1-score   support\n",
      "\n",
      "           0      0.571     0.400     0.471        10\n",
      "           1      0.647     0.786     0.710        14\n",
      "\n",
      "    accuracy                          0.625        24\n",
      "   macro avg      0.609     0.593     0.590        24\n",
      "weighted avg      0.616     0.625     0.610        24\n",
      "\n",
      "Confusion matrix [rows=true, cols=pred] (0,1):\n",
      " [[ 4  6]\n",
      " [ 3 11]]\n"
     ]
    }
   ],
   "source": [
    "# Initialize KNN with best hyperparameters found in the previous step\n",
    "knn_best = KNeighborsClassifier(n_neighbors=best_k, metric=best_metric, weights=\"distance\")\n",
    "\n",
    "# Train KNN on the scaled training data\n",
    "knn_best.fit(Xtr, ytr)\n",
    "\n",
    "# Predict labels for the test set\n",
    "preds_best = knn_best.predict(Xte)\n",
    "\n",
    "# Print overall accuracy\n",
    "print(\"Accuracy:\", round(accuracy_score(yte, preds_best), 3))\n",
    "\n",
    "# Print detailed classification report (precision, recall, F1-score)\n",
    "print(\"\\nClassification report:\\n\", classification_report(yte, preds_best, digits=3))\n",
    "\n",
    "# Compute confusion matrix (rows = true labels, cols = predicted labels)\n",
    "cm = confusion_matrix(yte, preds_best, labels=[0, 1])\n",
    "print(\"Confusion matrix [rows=true, cols=pred] (0,1):\\n\", cm)"
   ]
  },
  {
   "cell_type": "markdown",
   "id": "d8c46d37",
   "metadata": {},
   "source": [
    "### Plot accuracy vs. k for different distance metrics\n",
    "\n",
    "- Create a line plot of accuracy values for each tested distance metric.  \n",
    "- For each metric, plot accuracy against the k values.  \n",
    "- Highlight the best k per metric in the legend.  \n",
    "- Add grid lines, axis labels, and title for better readability."
   ]
  },
  {
   "cell_type": "code",
   "execution_count": 9,
   "id": "1b4855cb",
   "metadata": {},
   "outputs": [
    {
     "data": {
      "image/png": "[encoded data removed]",
      "text/plain": [
       "<Figure size 700x500 with 1 Axes>"
      ]
     },
     "metadata": {},
     "output_type": "display_data"
    }
   ],
   "source": [
    "# Create a new figure with defined size\n",
    "plt.figure(figsize=(7, 5))\n",
    "\n",
    "# Loop through the results and plot accuracy vs k for each distance metric\n",
    "for metric, res in results_by_metric.items():\n",
    "    ks = sorted(res[\"accuracies\"].keys())          # all k values tested\n",
    "    accs = [res[\"accuracies\"][k] for k in ks]      # corresponding accuracies\n",
    "    plt.plot(ks, accs, marker='o', label=f\"{metric} (best k={res['best_k']})\")\n",
    "\n",
    "# Add plot title and labels\n",
    "plt.title(\"K vs Accuracy by Distance Metric (KNN)\")\n",
    "plt.xlabel(\"k\")\n",
    "plt.ylabel(\"Accuracy (%)\")\n",
    "\n",
    "# Add legend and grid for readability\n",
    "plt.legend()\n",
    "plt.grid(True, alpha=0.3)\n",
    "\n",
    "# Adjust layout to prevent overlapping labels\n",
    "plt.tight_layout()\n",
    "\n",
    "# Display the plot\n",
    "plt.show()"
   ]
  }
 ],
 "metadata": {
  "kernelspec": {
   "display_name": "Python 3",
   "language": "python",
   "name": "python3"
  },
  "language_info": {
   "codemirror_mode": {
    "name": "ipython",
    "version": 3
   },
   "file_extension": ".py",
   "mimetype": "text/x-python",
   "name": "python",
   "nbconvert_exporter": "python",
   "pygments_lexer": "ipython3",
   "version": "3.13.7"
  }
 },
 "nbformat": 4,
 "nbformat_minor": 5
}
