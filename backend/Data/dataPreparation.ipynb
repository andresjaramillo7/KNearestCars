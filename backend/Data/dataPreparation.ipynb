{
 "cells": [
  {
   "cell_type": "code",
   "execution_count": 50,
   "id": "99f40c7d",
   "metadata": {},
   "outputs": [],
   "source": [
    "import pandas as pd"
   ]
  },
  {
   "cell_type": "code",
   "execution_count": 51,
   "id": "266154f9",
   "metadata": {},
   "outputs": [],
   "source": [
    "df_raw = pd.read_csv('WinLoseDataset.csv')\n",
    "\n",
    "df_to_clean = df_raw.iloc[:, 1:].copy()"
   ]
  },
  {
   "cell_type": "code",
   "execution_count": 52,
   "id": "7df4d429",
   "metadata": {},
   "outputs": [],
   "source": [
    "mapa_horas = {\n",
    "    \"0 - 1 horas\": 0,\n",
    "    \"1 - 2 horas\": 1,\n",
    "    \"2 - 3 horas\": 2,\n",
    "    \"3 - 4 horas\": 3,\n",
    "    \"4 - 5 + horas\": 4\n",
    "}\n",
    "\n",
    "df_to_clean[\"Horas jugadas antes de la partida \"] = df_to_clean[\"Horas jugadas antes de la partida \"].map(mapa_horas)"
   ]
  },
  {
   "cell_type": "code",
   "execution_count": 53,
   "id": "13d73f3c",
   "metadata": {},
   "outputs": [],
   "source": [
    "df_to_clean = pd.get_dummies(df_to_clean, columns=[\"Hora del día en que jugaste  \", \"Tipo de juego\", \"Jugaste con amigos o solo  \"])\n",
    "df_to_clean['Hora del día en que jugaste  _Madrugada (12am–6am)'] = df_to_clean['Hora del día en que jugaste  _Madrugada (12am–6am)'].astype(int)\n",
    "df_to_clean['Hora del día en que jugaste  _Mañana (6 am - 12 pm)'] = df_to_clean['Hora del día en que jugaste  _Mañana (6 am - 12 pm)'].astype(int)\n",
    "df_to_clean['Hora del día en que jugaste  _Noche (6pm–12am)'] = df_to_clean['Hora del día en que jugaste  _Noche (6pm–12am)'].astype(int)\n",
    "df_to_clean['Hora del día en que jugaste  _Tarde (12pm–6pm)'] = df_to_clean['Hora del día en que jugaste  _Tarde (12pm–6pm)'].astype(int)\n",
    "df_to_clean['Tipo de juego_Deportes'] = df_to_clean['Tipo de juego_Deportes'].astype(int)\n",
    "df_to_clean['Tipo de juego_Estrategia'] = df_to_clean['Tipo de juego_Estrategia'].astype(int)\n",
    "df_to_clean['Tipo de juego_MOBA'] = df_to_clean['Tipo de juego_MOBA'].astype(int)\n",
    "df_to_clean['Tipo de juego_Shooter'] = df_to_clean['Tipo de juego_Shooter'].astype(int)\n",
    "df_to_clean['Jugaste con amigos o solo  _Con amigos'] = df_to_clean['Jugaste con amigos o solo  _Con amigos'].astype(int)\n",
    "df_to_clean['Jugaste con amigos o solo  _Solo'] = df_to_clean['Jugaste con amigos o solo  _Solo'].astype(int)"
   ]
  },
  {
   "cell_type": "code",
   "execution_count": 54,
   "id": "df50fa90",
   "metadata": {},
   "outputs": [],
   "source": [
    "y = df_to_clean['Ganaste o Perdiste la partida'].copy()\n",
    "\n",
    "y = df_to_clean['Ganaste o Perdiste la partida'].copy()\n",
    "\n",
    "X = df_to_clean.drop(columns=['Ganaste o Perdiste la partida'])"
   ]
  },
  {
   "cell_type": "code",
   "execution_count": 55,
   "id": "2eefc5ab",
   "metadata": {},
   "outputs": [
    {
     "name": "stdout",
     "output_type": "stream",
     "text": [
      "<class 'pandas.core.series.Series'>\n",
      "RangeIndex: 120 entries, 0 to 119\n",
      "Series name: Ganaste o Perdiste la partida\n",
      "Non-Null Count  Dtype \n",
      "--------------  ----- \n",
      "120 non-null    object\n",
      "dtypes: object(1)\n",
      "memory usage: 1.1+ KB\n"
     ]
    }
   ],
   "source": [
    "y.info()"
   ]
  },
  {
   "cell_type": "code",
   "execution_count": 56,
   "id": "106790ae",
   "metadata": {},
   "outputs": [
    {
     "name": "stdout",
     "output_type": "stream",
     "text": [
      "<class 'pandas.core.frame.DataFrame'>\n",
      "RangeIndex: 120 entries, 0 to 119\n",
      "Data columns (total 13 columns):\n",
      " #   Column                                                                 Non-Null Count  Dtype\n",
      "---  ------                                                                 --------------  -----\n",
      " 0   Horas jugadas antes de la partida                                      120 non-null    int64\n",
      " 1   Nivel de cansancio antes de jugar                                      120 non-null    int64\n",
      " 2   Número de victorias consecutivas que llevabas antes de esta partida    120 non-null    int64\n",
      " 3   Hora del día en que jugaste  _Madrugada (12am–6am)                     120 non-null    int64\n",
      " 4   Hora del día en que jugaste  _Mañana (6 am - 12 pm)                    120 non-null    int64\n",
      " 5   Hora del día en que jugaste  _Noche (6pm–12am)                         120 non-null    int64\n",
      " 6   Hora del día en que jugaste  _Tarde (12pm–6pm)                         120 non-null    int64\n",
      " 7   Tipo de juego_Deportes                                                 120 non-null    int64\n",
      " 8   Tipo de juego_Estrategia                                               120 non-null    int64\n",
      " 9   Tipo de juego_MOBA                                                     120 non-null    int64\n",
      " 10  Tipo de juego_Shooter                                                  120 non-null    int64\n",
      " 11  Jugaste con amigos o solo  _Con amigos                                 120 non-null    int64\n",
      " 12  Jugaste con amigos o solo  _Solo                                       120 non-null    int64\n",
      "dtypes: int64(13)\n",
      "memory usage: 12.3 KB\n"
     ]
    }
   ],
   "source": [
    "X.info()"
   ]
  },
  {
   "cell_type": "code",
   "execution_count": 72,
   "id": "4dbafba2",
   "metadata": {},
   "outputs": [],
   "source": [
    "import pandas as pd\n",
    "\n",
    "def load_dataset():\n",
    "    # Leer CSV\n",
    "    df_raw = pd.read_csv(\"WinLoseDataset.csv\")\n",
    "    df = df_raw.iloc[:, 1:].copy()\n",
    "    df.columns = df.columns.str.strip()\n",
    "\n",
    "    # Mapear horas\n",
    "    MAP_HORAS = {\n",
    "        \"0 - 1 horas\": 0,\n",
    "        \"1 - 2 horas\": 1,\n",
    "        \"2 - 3 horas\": 2,\n",
    "        \"3 - 4 horas\": 3,\n",
    "        \"4 - 5 + horas\": 4\n",
    "    }\n",
    "    df[\"Horas jugadas antes de la partida\"] = df[\"Horas jugadas antes de la partida\"].map(MAP_HORAS)\n",
    "\n",
    "    df[\"Tipo de juego\"] = df[\"Tipo de juego\"].replace({\n",
    "    \"Shooter\": \"Otros\",\n",
    "    \"Estrategia\": \"Otros\",\n",
    "    \"Deportes\": \"Otros\",\n",
    "})\n",
    "\n",
    "    # One-hot encoding\n",
    "    cat_cols = [\"Hora del día en que jugaste\", \"Tipo de juego\", \"Jugaste con amigos o solo\"]\n",
    "    df = pd.get_dummies(df, columns=cat_cols, drop_first=False)\n",
    "\n",
    "    # Separar target y features\n",
    "    y = df[\"Ganaste o Perdiste la partida\"].map({\"Gané\": 1, \"Perdí\": 0}).astype(int)\n",
    "    X = df.drop(columns=[\"Ganaste o Perdiste la partida\"])\n",
    "\n",
    "    return X, y"
   ]
  },
  {
   "cell_type": "code",
   "execution_count": 67,
   "id": "bb056f4d",
   "metadata": {},
   "outputs": [
    {
     "name": "stdout",
     "output_type": "stream",
     "text": [
      "<class 'pandas.core.frame.DataFrame'>\n",
      "RangeIndex: 120 entries, 0 to 119\n",
      "Data columns (total 11 columns):\n",
      " #   Column                                                               Non-Null Count  Dtype\n",
      "---  ------                                                               --------------  -----\n",
      " 0   Horas jugadas antes de la partida                                    120 non-null    int64\n",
      " 1   Nivel de cansancio antes de jugar                                    120 non-null    int64\n",
      " 2   Número de victorias consecutivas que llevabas antes de esta partida  120 non-null    int64\n",
      " 3   Hora del día en que jugaste_Madrugada (12am–6am)                     120 non-null    bool \n",
      " 4   Hora del día en que jugaste_Mañana (6 am - 12 pm)                    120 non-null    bool \n",
      " 5   Hora del día en que jugaste_Noche (6pm–12am)                         120 non-null    bool \n",
      " 6   Hora del día en que jugaste_Tarde (12pm–6pm)                         120 non-null    bool \n",
      " 7   Tipo de juego_MOBA                                                   120 non-null    bool \n",
      " 8   Tipo de juego_Otros                                                  120 non-null    bool \n",
      " 9   Jugaste con amigos o solo_Con amigos                                 120 non-null    bool \n",
      " 10  Jugaste con amigos o solo_Solo                                       120 non-null    bool \n",
      "dtypes: bool(8), int64(3)\n",
      "memory usage: 3.9 KB\n"
     ]
    }
   ],
   "source": [
    "X, y = load_dataset()\n",
    "\n",
    "X.info()"
   ]
  }
 ],
 "metadata": {
  "kernelspec": {
   "display_name": "Python 3",
   "language": "python",
   "name": "python3"
  },
  "language_info": {
   "codemirror_mode": {
    "name": "ipython",
    "version": 3
   },
   "file_extension": ".py",
   "mimetype": "text/x-python",
   "name": "python",
   "nbconvert_exporter": "python",
   "pygments_lexer": "ipython3",
   "version": "3.13.7"
  }
 },
 "nbformat": 4,
 "nbformat_minor": 5
}
